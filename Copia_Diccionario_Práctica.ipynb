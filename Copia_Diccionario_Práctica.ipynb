{
  "nbformat": 4,
  "nbformat_minor": 0,
  "metadata": {
    "colab": {
      "provenance": [],
      "include_colab_link": true
    },
    "kernelspec": {
      "name": "python3",
      "display_name": "Python 3"
    },
    "language_info": {
      "name": "python"
    }
  },
  "cells": [
    {
      "cell_type": "markdown",
      "metadata": {
        "id": "view-in-github",
        "colab_type": "text"
      },
      "source": [
        "<a href=\"https://colab.research.google.com/github/katyvirg19/tps-pii-colab/blob/main/Copia_Diccionario_Pr%C3%A1ctica.ipynb\" target=\"_parent\"><img src=\"https://colab.research.google.com/assets/colab-badge.svg\" alt=\"Open In Colab\"/></a>"
      ]
    },
    {
      "cell_type": "code",
      "execution_count": null,
      "metadata": {
        "id": "8VOD-zpMJovw"
      },
      "outputs": [],
      "source": [
        "# Listas de alumnos\n",
        "estudiantes_5d = [\n",
        "   (\"Alurralde, Solange Stefania\",\"D\",\"02/04/2007\"),\n",
        "   (\"Alvarado, Ludmila Del Milagro\",\"D\",\"06/09/2006\"),\n",
        "   (\"Angel, Camila Juliana\",\"D\",\"07/03/2007\"),\n",
        "   (\"Arenas, Lucas Gabriel\",\"D\",\"26/06/2007\"),\n",
        "   (\"Caseres, Maria Antonia\",\"D\",\"01/07/2006\"),\n",
        "   (\"Castillo, Paulina Milagros\",\"D\",\"01/06/2007\"),\n",
        "   (\"Correa Segovia, Hugo Mariano\",\"D\",\"04/12/2006\"),\n",
        "   (\"D Elia, Alvaro Tadeo\",\"D\",\"27/08/2006\"),\n",
        "   (\"Flores, Victoria Agustina\",\"D\",\"12/12/2006\"),\n",
        "   (\"Geronimo Soriano, Lizzie Amaya\",\"D\",\"20/01/2007\"),\n",
        "   (\"GUZMAN, ANGÉLICA MORENA\",\"D\",\"11/04/2007\"),\n",
        "   (\"Guzman, Jazmin Esmeralda Belen\",\"D\",\"31/07/2006\"),\n",
        "   (\"Jaime, Anita Maria Belen\",\"D\",\"19/04/2007\"),\n",
        "   (\"Lacour Polo, Nazarena\",\"D\",\"19/12/2005\"),\n",
        "   (\"Lascano Guanca, Marcelo Fabricio\",\"D\",\"17/02/2006\"),\n",
        "   (\"Lezcano, Celia Morena\",\"D\",\"01/07/2005\"),\n",
        "   (\"Martinez, Tomas Andres\",\"D\",\"22/03/2007\"),\n",
        "   (\"PORTELLA VALDIVIA, PEDRO FRANCISCO\",\"D\",\"24/01/2007\"),\n",
        "   (\"Retamal Cisneros, Zacarias Josue\",\"D\",\"24/02/2007\"),\n",
        "   (\"Rosales, Francisco Gabriel\",\"D\",\"14/11/2006\"),\n",
        "   (\"Salem Barba, Mahia\",\"D\",\"14/10/2005\"),\n",
        "   (\"Soto Camara, Agustin Ignacio\",\"D\",\"07/11/2005\"),\n",
        "   (\"Villalba, Irina\",\"D\",\"09/09/2006\"),\n",
        "   (\"Voltolini, Emanuel Tobias\",\"D\",\"17/09/2006\"),\n",
        "   (\"Zalazar, Santino Stefano\",\"D\",\"30/09/2006\")\n",
        "]\n",
        "\n",
        "estudiantes_5c=[\n",
        "    (\"ABUD LASPIUR, LOURDES MARIEL\",\"C\",\"05/12/2006\"),\n",
        "    (\"Amador, Luana Micaela\",\"C\",\"09/12/2006\"),\n",
        "    (\"Anaquin, Leonardo Ezequiel\",\"C\",\"06/09/2005\"),\n",
        "    (\"Araoz Sanchez, Lautaro Nahuel\",\"C\",\"28/12/2005\"),\n",
        "    (\"Argañaraz, Agostina Abril\",\"C\",\"11/10/2006\"),\n",
        "    (\"Barrera, Matias Ezequiel\",\"C\",\"27/02/2007\"),\n",
        "    (\"Barrozo Vedia, Joaquin Nicolas\",\"C\",\"15/04/2006\"),\n",
        "    (\"Bettinelli, Valentino\",\"C\",\"12/07/2006\"),\n",
        "    (\"Bracamonte Martinez, Salvador\",\"C\",\"02/11/2005\"),\n",
        "    (\"Colque Rivero, Ariana Zoe Del Valle\",\"C\",\"27/12/2006\"),\n",
        "    (\"Diaz, Dulce Maitena\",\"C\",\"11/12/2006\"),\n",
        "    (\"FIGUEROA, SANTINO JOSUE\",\"C\",\"12/05/2007\"),\n",
        "    (\"Flores Cardozo, Agustina Tiara\",\"C\",\"18/03/2006\"),\n",
        "    (\"Gallo, Octavio Ismael\",\"C\",\"04/08/2006\"),\n",
        "    (\"Galvan, Lourdes Yamila\",\"C\",\"19/08/2005\"),\n",
        "    (\"Giangreco, Vitto Tomasso\",\"C\",\"21/03/2007\"),\n",
        "    (\"Grancara, Martina Luna\",\"C\",\"15/12/2006\"),\n",
        "    (\"Guanca, Sara Elizabeth\",\"C\",\"17/01/2007\"),\n",
        "    (\"Lopez, Victoria Constanza\",\"C\",\"12/11/2007\"),\n",
        "    (\"Mamani Garrido, Rosario Agostina\",\"C\",\"24/10/2006\"),\n",
        "    (\"Marinaro, Martin Ezequiel\",\"C\",\"03/11/2006\"),\n",
        "    (\"Merluzzi Dagum, Ignacio\",\"C\",\"22/12/2005\"),\n",
        "    (\"Messina, Martina\",\"C\",\"13/07/2005\"),\n",
        "    (\"RASUK, KARIM\", \"C\",\"13/07/2007\"),\n",
        "    (\"Rios, Lucia Magali\",\"C\",\"22/09/2006\"),\n",
        "    (\"Sanchez Flores, Matías Agustín\",\"C\",\"15/02/2007\"),\n",
        "    (\"Scarano, Renato Marcelo\",\"C\",\"06/12/2006\"),\n",
        "    (\"Sierra, Lucas Mauricio\",\"C\",\"03/04/2005\"),\n",
        "    (\"Tapia, Martin Gabriel\",\"C\",\"30/05/2006\"),\n",
        "    (\"Vilte, Mia Antonella Alondra\",\"C\",\"10/09/2005\"),\n",
        "    (\"Virgillito, Katya Milena\",\"C\",\"19/06/2007\")\n",
        "]"
      ]
    },
    {
      "cell_type": "markdown",
      "source": [
        "## Dada la lista estudiantes:\n",
        "> - Hacer una celda para resolver cada punto.\n",
        "- El TP resuelto será revisado en tu repositorio, no es necesario que lo envíes, pero sí que lo pushees correctamente.\n",
        "- En la nota inicial se contempla:\n",
        "  - La incorporación de este documento a tu propio respositorio.\n",
        "  - El pusheo de los cambios realizados.\n",
        "  - La resolución de los ejercicios propuestos.\n"
      ],
      "metadata": {
        "id": "rd6Ug6v3J4uN"
      }
    },
    {
      "cell_type": "markdown",
      "source": [
        "1. Reemplaza todos los valores del nombre por los que obtengas del método title(). De esta manera las listas quedaran con los datos más homogéneos."
      ],
      "metadata": {
        "id": "wRLng-uURyJ3"
      }
    },
    {
      "cell_type": "code",
      "source": [
        "estudiantes = []\n",
        "for i in range(len(estudiantes_5c)):\n",
        "  nombre, divi, fecha_nac=estudiantes_5c[i]\n",
        "  estudiantes.append((nombre.title(),divi,fecha_nac))\n",
        "\n",
        "for i in range(len(estudiantes_5d)):\n",
        "  nombre, divi, fecha_nac=estudiantes_5c[i]\n",
        "  estudiantes.append((nombre.title(),divi, fecha_nac))\n",
        "\n",
        "for estudiante in estudiantes:\n",
        "  print(estudiante)"
      ],
      "metadata": {
        "id": "5lFqJoTaSIWi",
        "colab": {
          "base_uri": "https://localhost:8080/"
        },
        "outputId": "1aeddc06-9aee-43f8-be9c-d11bf7a04a73"
      },
      "execution_count": null,
      "outputs": [
        {
          "output_type": "stream",
          "name": "stdout",
          "text": [
            "('Abud Laspiur, Lourdes Mariel', 'C', '05/12/2006')\n",
            "('Amador, Luana Micaela', 'C', '09/12/2006')\n",
            "('Anaquin, Leonardo Ezequiel', 'C', '06/09/2005')\n",
            "('Araoz Sanchez, Lautaro Nahuel', 'C', '28/12/2005')\n",
            "('Argañaraz, Agostina Abril', 'C', '11/10/2006')\n",
            "('Barrera, Matias Ezequiel', 'C', '27/02/2007')\n",
            "('Barrozo Vedia, Joaquin Nicolas', 'C', '15/04/2006')\n",
            "('Bettinelli, Valentino', 'C', '12/07/2006')\n",
            "('Bracamonte Martinez, Salvador', 'C', '02/11/2005')\n",
            "('Colque Rivero, Ariana Zoe Del Valle', 'C', '27/12/2006')\n",
            "('Diaz, Dulce Maitena', 'C', '11/12/2006')\n",
            "('Figueroa, Santino Josue', 'C', '12/05/2007')\n",
            "('Flores Cardozo, Agustina Tiara', 'C', '18/03/2006')\n",
            "('Gallo, Octavio Ismael', 'C', '04/08/2006')\n",
            "('Galvan, Lourdes Yamila', 'C', '19/08/2005')\n",
            "('Giangreco, Vitto Tomasso', 'C', '21/03/2007')\n",
            "('Grancara, Martina Luna', 'C', '15/12/2006')\n",
            "('Guanca, Sara Elizabeth', 'C', '17/01/2007')\n",
            "('Lopez, Victoria Constanza', 'C', '12/11/2007')\n",
            "('Mamani Garrido, Rosario Agostina', 'C', '24/10/2006')\n",
            "('Marinaro, Martin Ezequiel', 'C', '03/11/2006')\n",
            "('Merluzzi Dagum, Ignacio', 'C', '22/12/2005')\n",
            "('Messina, Martina', 'C', '13/07/2005')\n",
            "('Rasuk, Karim', 'C', '13/07/2007')\n",
            "('Rios, Lucia Magali', 'C', '22/09/2006')\n",
            "('Sanchez Flores, Matías Agustín', 'C', '15/02/2007')\n",
            "('Scarano, Renato Marcelo', 'C', '06/12/2006')\n",
            "('Sierra, Lucas Mauricio', 'C', '03/04/2005')\n",
            "('Tapia, Martin Gabriel', 'C', '30/05/2006')\n",
            "('Vilte, Mia Antonella Alondra', 'C', '10/09/2005')\n",
            "('Virgillito, Katya Milena', 'C', '19/06/2007')\n",
            "('Abud Laspiur, Lourdes Mariel', 'C', '05/12/2006')\n",
            "('Amador, Luana Micaela', 'C', '09/12/2006')\n",
            "('Anaquin, Leonardo Ezequiel', 'C', '06/09/2005')\n",
            "('Araoz Sanchez, Lautaro Nahuel', 'C', '28/12/2005')\n",
            "('Argañaraz, Agostina Abril', 'C', '11/10/2006')\n",
            "('Barrera, Matias Ezequiel', 'C', '27/02/2007')\n",
            "('Barrozo Vedia, Joaquin Nicolas', 'C', '15/04/2006')\n",
            "('Bettinelli, Valentino', 'C', '12/07/2006')\n",
            "('Bracamonte Martinez, Salvador', 'C', '02/11/2005')\n",
            "('Colque Rivero, Ariana Zoe Del Valle', 'C', '27/12/2006')\n",
            "('Diaz, Dulce Maitena', 'C', '11/12/2006')\n",
            "('Figueroa, Santino Josue', 'C', '12/05/2007')\n",
            "('Flores Cardozo, Agustina Tiara', 'C', '18/03/2006')\n",
            "('Gallo, Octavio Ismael', 'C', '04/08/2006')\n",
            "('Galvan, Lourdes Yamila', 'C', '19/08/2005')\n",
            "('Giangreco, Vitto Tomasso', 'C', '21/03/2007')\n",
            "('Grancara, Martina Luna', 'C', '15/12/2006')\n",
            "('Guanca, Sara Elizabeth', 'C', '17/01/2007')\n",
            "('Lopez, Victoria Constanza', 'C', '12/11/2007')\n",
            "('Mamani Garrido, Rosario Agostina', 'C', '24/10/2006')\n",
            "('Marinaro, Martin Ezequiel', 'C', '03/11/2006')\n",
            "('Merluzzi Dagum, Ignacio', 'C', '22/12/2005')\n",
            "('Messina, Martina', 'C', '13/07/2005')\n",
            "('Rasuk, Karim', 'C', '13/07/2007')\n",
            "('Rios, Lucia Magali', 'C', '22/09/2006')\n"
          ]
        }
      ]
    },
    {
      "cell_type": "markdown",
      "source": [
        "2. Genera una lista de diccionarios con los datos de las listas, donde las claves de los mismos serán:\n",
        "- \"apellido\"\n",
        "- \"nombre\"\n",
        "- \"curso\"\n",
        "- \"division\"\n",
        "- \"feha_de_nacimiento\"\n",
        "\n",
        "Muestra la información generada."
      ],
      "metadata": {
        "id": "dYEGkYZyLy9I"
      }
    },
    {
      "cell_type": "code",
      "source": [
        "lista_dict=[]\n",
        "for estudiante in estudiantes:\n",
        "   nombre_completo, division, fecha_nacimiento=estudiante\n",
        "   apellido, nombre=nombre_completo.split(\",\")\n",
        "   nombre=nombre.strip()\n",
        "   diccionario={}\n",
        "   diccionario[\"nombre\"]=nombre\n",
        "   diccionario[\"apellido\"] = apellido\n",
        "   diccionario[\"division\"]=division\n",
        "   diccionario[\"curso\"]=5\n",
        "   diccionario[\"fecha_nacimiento\"]=fecha_nacimiento\n",
        "   lista_dict.append(diccionario)\n",
        "for estudiante in lista_dict:\n",
        "   print(estudiante)"
      ],
      "metadata": {
        "id": "tBJwpBVtRr8a",
        "colab": {
          "base_uri": "https://localhost:8080/"
        },
        "outputId": "dd5e0465-ba2c-447b-d4b4-94e741c6cdd7"
      },
      "execution_count": null,
      "outputs": [
        {
          "output_type": "stream",
          "name": "stdout",
          "text": [
            "{'nombre': 'Lourdes Mariel', 'apellido': 'Abud Laspiur', 'division': 'C', 'curso': 5, 'fecha_nacimiento': '05/12/2006'}\n",
            "{'nombre': 'Luana Micaela', 'apellido': 'Amador', 'division': 'C', 'curso': 5, 'fecha_nacimiento': '09/12/2006'}\n",
            "{'nombre': 'Leonardo Ezequiel', 'apellido': 'Anaquin', 'division': 'C', 'curso': 5, 'fecha_nacimiento': '06/09/2005'}\n",
            "{'nombre': 'Lautaro Nahuel', 'apellido': 'Araoz Sanchez', 'division': 'C', 'curso': 5, 'fecha_nacimiento': '28/12/2005'}\n",
            "{'nombre': 'Agostina Abril', 'apellido': 'Argañaraz', 'division': 'C', 'curso': 5, 'fecha_nacimiento': '11/10/2006'}\n",
            "{'nombre': 'Matias Ezequiel', 'apellido': 'Barrera', 'division': 'C', 'curso': 5, 'fecha_nacimiento': '27/02/2007'}\n",
            "{'nombre': 'Joaquin Nicolas', 'apellido': 'Barrozo Vedia', 'division': 'C', 'curso': 5, 'fecha_nacimiento': '15/04/2006'}\n",
            "{'nombre': 'Valentino', 'apellido': 'Bettinelli', 'division': 'C', 'curso': 5, 'fecha_nacimiento': '12/07/2006'}\n",
            "{'nombre': 'Salvador', 'apellido': 'Bracamonte Martinez', 'division': 'C', 'curso': 5, 'fecha_nacimiento': '02/11/2005'}\n",
            "{'nombre': 'Ariana Zoe Del Valle', 'apellido': 'Colque Rivero', 'division': 'C', 'curso': 5, 'fecha_nacimiento': '27/12/2006'}\n",
            "{'nombre': 'Dulce Maitena', 'apellido': 'Diaz', 'division': 'C', 'curso': 5, 'fecha_nacimiento': '11/12/2006'}\n",
            "{'nombre': 'Santino Josue', 'apellido': 'Figueroa', 'division': 'C', 'curso': 5, 'fecha_nacimiento': '12/05/2007'}\n",
            "{'nombre': 'Agustina Tiara', 'apellido': 'Flores Cardozo', 'division': 'C', 'curso': 5, 'fecha_nacimiento': '18/03/2006'}\n",
            "{'nombre': 'Octavio Ismael', 'apellido': 'Gallo', 'division': 'C', 'curso': 5, 'fecha_nacimiento': '04/08/2006'}\n",
            "{'nombre': 'Lourdes Yamila', 'apellido': 'Galvan', 'division': 'C', 'curso': 5, 'fecha_nacimiento': '19/08/2005'}\n",
            "{'nombre': 'Vitto Tomasso', 'apellido': 'Giangreco', 'division': 'C', 'curso': 5, 'fecha_nacimiento': '21/03/2007'}\n",
            "{'nombre': 'Martina Luna', 'apellido': 'Grancara', 'division': 'C', 'curso': 5, 'fecha_nacimiento': '15/12/2006'}\n",
            "{'nombre': 'Sara Elizabeth', 'apellido': 'Guanca', 'division': 'C', 'curso': 5, 'fecha_nacimiento': '17/01/2007'}\n",
            "{'nombre': 'Victoria Constanza', 'apellido': 'Lopez', 'division': 'C', 'curso': 5, 'fecha_nacimiento': '12/11/2007'}\n",
            "{'nombre': 'Rosario Agostina', 'apellido': 'Mamani Garrido', 'division': 'C', 'curso': 5, 'fecha_nacimiento': '24/10/2006'}\n",
            "{'nombre': 'Martin Ezequiel', 'apellido': 'Marinaro', 'division': 'C', 'curso': 5, 'fecha_nacimiento': '03/11/2006'}\n",
            "{'nombre': 'Ignacio', 'apellido': 'Merluzzi Dagum', 'division': 'C', 'curso': 5, 'fecha_nacimiento': '22/12/2005'}\n",
            "{'nombre': 'Martina', 'apellido': 'Messina', 'division': 'C', 'curso': 5, 'fecha_nacimiento': '13/07/2005'}\n",
            "{'nombre': 'Karim', 'apellido': 'Rasuk', 'division': 'C', 'curso': 5, 'fecha_nacimiento': '13/07/2007'}\n",
            "{'nombre': 'Lucia Magali', 'apellido': 'Rios', 'division': 'C', 'curso': 5, 'fecha_nacimiento': '22/09/2006'}\n",
            "{'nombre': 'Matías Agustín', 'apellido': 'Sanchez Flores', 'division': 'C', 'curso': 5, 'fecha_nacimiento': '15/02/2007'}\n",
            "{'nombre': 'Renato Marcelo', 'apellido': 'Scarano', 'division': 'C', 'curso': 5, 'fecha_nacimiento': '06/12/2006'}\n",
            "{'nombre': 'Lucas Mauricio', 'apellido': 'Sierra', 'division': 'C', 'curso': 5, 'fecha_nacimiento': '03/04/2005'}\n",
            "{'nombre': 'Martin Gabriel', 'apellido': 'Tapia', 'division': 'C', 'curso': 5, 'fecha_nacimiento': '30/05/2006'}\n",
            "{'nombre': 'Mia Antonella Alondra', 'apellido': 'Vilte', 'division': 'C', 'curso': 5, 'fecha_nacimiento': '10/09/2005'}\n",
            "{'nombre': 'Katya Milena', 'apellido': 'Virgillito', 'division': 'C', 'curso': 5, 'fecha_nacimiento': '19/06/2007'}\n",
            "{'nombre': 'Lourdes Mariel', 'apellido': 'Abud Laspiur', 'division': 'C', 'curso': 5, 'fecha_nacimiento': '05/12/2006'}\n",
            "{'nombre': 'Luana Micaela', 'apellido': 'Amador', 'division': 'C', 'curso': 5, 'fecha_nacimiento': '09/12/2006'}\n",
            "{'nombre': 'Leonardo Ezequiel', 'apellido': 'Anaquin', 'division': 'C', 'curso': 5, 'fecha_nacimiento': '06/09/2005'}\n",
            "{'nombre': 'Lautaro Nahuel', 'apellido': 'Araoz Sanchez', 'division': 'C', 'curso': 5, 'fecha_nacimiento': '28/12/2005'}\n",
            "{'nombre': 'Agostina Abril', 'apellido': 'Argañaraz', 'division': 'C', 'curso': 5, 'fecha_nacimiento': '11/10/2006'}\n",
            "{'nombre': 'Matias Ezequiel', 'apellido': 'Barrera', 'division': 'C', 'curso': 5, 'fecha_nacimiento': '27/02/2007'}\n",
            "{'nombre': 'Joaquin Nicolas', 'apellido': 'Barrozo Vedia', 'division': 'C', 'curso': 5, 'fecha_nacimiento': '15/04/2006'}\n",
            "{'nombre': 'Valentino', 'apellido': 'Bettinelli', 'division': 'C', 'curso': 5, 'fecha_nacimiento': '12/07/2006'}\n",
            "{'nombre': 'Salvador', 'apellido': 'Bracamonte Martinez', 'division': 'C', 'curso': 5, 'fecha_nacimiento': '02/11/2005'}\n",
            "{'nombre': 'Ariana Zoe Del Valle', 'apellido': 'Colque Rivero', 'division': 'C', 'curso': 5, 'fecha_nacimiento': '27/12/2006'}\n",
            "{'nombre': 'Dulce Maitena', 'apellido': 'Diaz', 'division': 'C', 'curso': 5, 'fecha_nacimiento': '11/12/2006'}\n",
            "{'nombre': 'Santino Josue', 'apellido': 'Figueroa', 'division': 'C', 'curso': 5, 'fecha_nacimiento': '12/05/2007'}\n",
            "{'nombre': 'Agustina Tiara', 'apellido': 'Flores Cardozo', 'division': 'C', 'curso': 5, 'fecha_nacimiento': '18/03/2006'}\n",
            "{'nombre': 'Octavio Ismael', 'apellido': 'Gallo', 'division': 'C', 'curso': 5, 'fecha_nacimiento': '04/08/2006'}\n",
            "{'nombre': 'Lourdes Yamila', 'apellido': 'Galvan', 'division': 'C', 'curso': 5, 'fecha_nacimiento': '19/08/2005'}\n",
            "{'nombre': 'Vitto Tomasso', 'apellido': 'Giangreco', 'division': 'C', 'curso': 5, 'fecha_nacimiento': '21/03/2007'}\n",
            "{'nombre': 'Martina Luna', 'apellido': 'Grancara', 'division': 'C', 'curso': 5, 'fecha_nacimiento': '15/12/2006'}\n",
            "{'nombre': 'Sara Elizabeth', 'apellido': 'Guanca', 'division': 'C', 'curso': 5, 'fecha_nacimiento': '17/01/2007'}\n",
            "{'nombre': 'Victoria Constanza', 'apellido': 'Lopez', 'division': 'C', 'curso': 5, 'fecha_nacimiento': '12/11/2007'}\n",
            "{'nombre': 'Rosario Agostina', 'apellido': 'Mamani Garrido', 'division': 'C', 'curso': 5, 'fecha_nacimiento': '24/10/2006'}\n",
            "{'nombre': 'Martin Ezequiel', 'apellido': 'Marinaro', 'division': 'C', 'curso': 5, 'fecha_nacimiento': '03/11/2006'}\n",
            "{'nombre': 'Ignacio', 'apellido': 'Merluzzi Dagum', 'division': 'C', 'curso': 5, 'fecha_nacimiento': '22/12/2005'}\n",
            "{'nombre': 'Martina', 'apellido': 'Messina', 'division': 'C', 'curso': 5, 'fecha_nacimiento': '13/07/2005'}\n",
            "{'nombre': 'Karim', 'apellido': 'Rasuk', 'division': 'C', 'curso': 5, 'fecha_nacimiento': '13/07/2007'}\n",
            "{'nombre': 'Lucia Magali', 'apellido': 'Rios', 'division': 'C', 'curso': 5, 'fecha_nacimiento': '22/09/2006'}\n"
          ]
        }
      ]
    },
    {
      "cell_type": "markdown",
      "source": [
        "3. Genera un diccionario en python, en donde la clave sea cada nombre que aparece en las listas y el valor será la cantidad de veces que se encuentra el mismo.\n",
        "Para este punto es posible fusionar ambas listas en una sola, recordá que hay un método que realiza esta acción.\n",
        "\n",
        "Mostrá la informacion generada"
      ],
      "metadata": {
        "id": "UW2dlBsGMAte"
      }
    },
    {
      "cell_type": "code",
      "source": [
        "lista_nombres= []\n",
        "for estudiante in estudiantes:\n",
        "  nombre_completo= estudiante [0].replace(\",\",\"\").split()\n",
        "  lista_nombres.extend(nombre_completo)\n",
        "\n",
        "ocurrencias_nombres= {}\n",
        "for nombre in lista_nombres:\n",
        "  if nombre in ocurrencias_nombres.keys():\n",
        "   ocurrencias_nombres [nombre] += 1\n",
        "  else:\n",
        "   ocurrencias_nombres [nombre] = 1\n",
        "for nombre,ocurrencia in ocurrencias_nombres.items():\n",
        "   print(f\" El nombre {nombre} aparecio {ocurrencia} veces\")"
      ],
      "metadata": {
        "id": "EawAy4SANtkl",
        "colab": {
          "base_uri": "https://localhost:8080/"
        },
        "outputId": "5f8073ca-012e-46bc-a0d1-bcc6597d9bd5"
      },
      "execution_count": null,
      "outputs": [
        {
          "output_type": "stream",
          "name": "stdout",
          "text": [
            " El nombre Abud aparecio 2 veces\n",
            " El nombre Laspiur aparecio 2 veces\n",
            " El nombre Lourdes aparecio 4 veces\n",
            " El nombre Mariel aparecio 2 veces\n",
            " El nombre Amador aparecio 2 veces\n",
            " El nombre Luana aparecio 2 veces\n",
            " El nombre Micaela aparecio 2 veces\n",
            " El nombre Anaquin aparecio 2 veces\n",
            " El nombre Leonardo aparecio 2 veces\n",
            " El nombre Ezequiel aparecio 6 veces\n",
            " El nombre Araoz aparecio 2 veces\n",
            " El nombre Sanchez aparecio 3 veces\n",
            " El nombre Lautaro aparecio 2 veces\n",
            " El nombre Nahuel aparecio 2 veces\n",
            " El nombre Argañaraz aparecio 2 veces\n",
            " El nombre Agostina aparecio 4 veces\n",
            " El nombre Abril aparecio 2 veces\n",
            " El nombre Barrera aparecio 2 veces\n",
            " El nombre Matias aparecio 2 veces\n",
            " El nombre Barrozo aparecio 2 veces\n",
            " El nombre Vedia aparecio 2 veces\n",
            " El nombre Joaquin aparecio 2 veces\n",
            " El nombre Nicolas aparecio 2 veces\n",
            " El nombre Bettinelli aparecio 2 veces\n",
            " El nombre Valentino aparecio 2 veces\n",
            " El nombre Bracamonte aparecio 2 veces\n",
            " El nombre Martinez aparecio 2 veces\n",
            " El nombre Salvador aparecio 2 veces\n",
            " El nombre Colque aparecio 2 veces\n",
            " El nombre Rivero aparecio 2 veces\n",
            " El nombre Ariana aparecio 2 veces\n",
            " El nombre Zoe aparecio 2 veces\n",
            " El nombre Del aparecio 2 veces\n",
            " El nombre Valle aparecio 2 veces\n",
            " El nombre Diaz aparecio 2 veces\n",
            " El nombre Dulce aparecio 2 veces\n",
            " El nombre Maitena aparecio 2 veces\n",
            " El nombre Figueroa aparecio 2 veces\n",
            " El nombre Santino aparecio 2 veces\n",
            " El nombre Josue aparecio 2 veces\n",
            " El nombre Flores aparecio 3 veces\n",
            " El nombre Cardozo aparecio 2 veces\n",
            " El nombre Agustina aparecio 2 veces\n",
            " El nombre Tiara aparecio 2 veces\n",
            " El nombre Gallo aparecio 2 veces\n",
            " El nombre Octavio aparecio 2 veces\n",
            " El nombre Ismael aparecio 2 veces\n",
            " El nombre Galvan aparecio 2 veces\n",
            " El nombre Yamila aparecio 2 veces\n",
            " El nombre Giangreco aparecio 2 veces\n",
            " El nombre Vitto aparecio 2 veces\n",
            " El nombre Tomasso aparecio 2 veces\n",
            " El nombre Grancara aparecio 2 veces\n",
            " El nombre Martina aparecio 4 veces\n",
            " El nombre Luna aparecio 2 veces\n",
            " El nombre Guanca aparecio 2 veces\n",
            " El nombre Sara aparecio 2 veces\n",
            " El nombre Elizabeth aparecio 2 veces\n",
            " El nombre Lopez aparecio 2 veces\n",
            " El nombre Victoria aparecio 2 veces\n",
            " El nombre Constanza aparecio 2 veces\n",
            " El nombre Mamani aparecio 2 veces\n",
            " El nombre Garrido aparecio 2 veces\n",
            " El nombre Rosario aparecio 2 veces\n",
            " El nombre Marinaro aparecio 2 veces\n",
            " El nombre Martin aparecio 3 veces\n",
            " El nombre Merluzzi aparecio 2 veces\n",
            " El nombre Dagum aparecio 2 veces\n",
            " El nombre Ignacio aparecio 2 veces\n",
            " El nombre Messina aparecio 2 veces\n",
            " El nombre Rasuk aparecio 2 veces\n",
            " El nombre Karim aparecio 2 veces\n",
            " El nombre Rios aparecio 2 veces\n",
            " El nombre Lucia aparecio 2 veces\n",
            " El nombre Magali aparecio 2 veces\n",
            " El nombre Matías aparecio 1 veces\n",
            " El nombre Agustín aparecio 1 veces\n",
            " El nombre Scarano aparecio 1 veces\n",
            " El nombre Renato aparecio 1 veces\n",
            " El nombre Marcelo aparecio 1 veces\n",
            " El nombre Sierra aparecio 1 veces\n",
            " El nombre Lucas aparecio 1 veces\n",
            " El nombre Mauricio aparecio 1 veces\n",
            " El nombre Tapia aparecio 1 veces\n",
            " El nombre Gabriel aparecio 1 veces\n",
            " El nombre Vilte aparecio 1 veces\n",
            " El nombre Mia aparecio 1 veces\n",
            " El nombre Antonella aparecio 1 veces\n",
            " El nombre Alondra aparecio 1 veces\n",
            " El nombre Virgillito aparecio 1 veces\n",
            " El nombre Katya aparecio 1 veces\n",
            " El nombre Milena aparecio 1 veces\n"
          ]
        }
      ]
    },
    {
      "cell_type": "markdown",
      "source": [
        "4. Genera un diccionario en python, en donde la clave sea cada apellido que aparece en las listas y el valor será la cantidad de veces que se encuentra el mismo.\n",
        "Para este punto es posible fusionar ambas listas en una sola, recordá que hay un método que realiza esta acción."
      ],
      "metadata": {
        "id": "kZeEHUYVNwGV"
      }
    },
    {
      "cell_type": "code",
      "source": [
        "lista_apellidos= []\n",
        "for estudiante in estudiantes:\n",
        "  apellido_completo= estudiante [0].replace(\",\",\"\").split()\n",
        "  lista_apellidos.extend(apellido_completo)\n",
        "\n",
        "ocurrencias_apellidos= {}\n",
        "for apellido in lista_apellidos:\n",
        "  if apellido in ocurrencias_apellidos.keys():\n",
        "   ocurrencias_apellidos [apellido] += 1\n",
        "  else:\n",
        "   ocurrencias_apellidos [apellido] = 1\n",
        "for apellido,ocurrencia in ocurrencias_apellidos.items():\n",
        "  print(f\" El apellido {apellido} aparecio {ocurrencia}\")"
      ],
      "metadata": {
        "id": "q05GnxXgORzt",
        "colab": {
          "base_uri": "https://localhost:8080/"
        },
        "outputId": "caa34653-ff7f-4050-f26a-e585f2f56f5d"
      },
      "execution_count": null,
      "outputs": [
        {
          "output_type": "stream",
          "name": "stdout",
          "text": [
            " El apellido Abud aparecio 2\n",
            " El apellido Laspiur aparecio 2\n",
            " El apellido Lourdes aparecio 4\n",
            " El apellido Mariel aparecio 2\n",
            " El apellido Amador aparecio 2\n",
            " El apellido Luana aparecio 2\n",
            " El apellido Micaela aparecio 2\n",
            " El apellido Anaquin aparecio 2\n",
            " El apellido Leonardo aparecio 2\n",
            " El apellido Ezequiel aparecio 6\n",
            " El apellido Araoz aparecio 2\n",
            " El apellido Sanchez aparecio 3\n",
            " El apellido Lautaro aparecio 2\n",
            " El apellido Nahuel aparecio 2\n",
            " El apellido Argañaraz aparecio 2\n",
            " El apellido Agostina aparecio 4\n",
            " El apellido Abril aparecio 2\n",
            " El apellido Barrera aparecio 2\n",
            " El apellido Matias aparecio 2\n",
            " El apellido Barrozo aparecio 2\n",
            " El apellido Vedia aparecio 2\n",
            " El apellido Joaquin aparecio 2\n",
            " El apellido Nicolas aparecio 2\n",
            " El apellido Bettinelli aparecio 2\n",
            " El apellido Valentino aparecio 2\n",
            " El apellido Bracamonte aparecio 2\n",
            " El apellido Martinez aparecio 2\n",
            " El apellido Salvador aparecio 2\n",
            " El apellido Colque aparecio 2\n",
            " El apellido Rivero aparecio 2\n",
            " El apellido Ariana aparecio 2\n",
            " El apellido Zoe aparecio 2\n",
            " El apellido Del aparecio 2\n",
            " El apellido Valle aparecio 2\n",
            " El apellido Diaz aparecio 2\n",
            " El apellido Dulce aparecio 2\n",
            " El apellido Maitena aparecio 2\n",
            " El apellido Figueroa aparecio 2\n",
            " El apellido Santino aparecio 2\n",
            " El apellido Josue aparecio 2\n",
            " El apellido Flores aparecio 3\n",
            " El apellido Cardozo aparecio 2\n",
            " El apellido Agustina aparecio 2\n",
            " El apellido Tiara aparecio 2\n",
            " El apellido Gallo aparecio 2\n",
            " El apellido Octavio aparecio 2\n",
            " El apellido Ismael aparecio 2\n",
            " El apellido Galvan aparecio 2\n",
            " El apellido Yamila aparecio 2\n",
            " El apellido Giangreco aparecio 2\n",
            " El apellido Vitto aparecio 2\n",
            " El apellido Tomasso aparecio 2\n",
            " El apellido Grancara aparecio 2\n",
            " El apellido Martina aparecio 4\n",
            " El apellido Luna aparecio 2\n",
            " El apellido Guanca aparecio 2\n",
            " El apellido Sara aparecio 2\n",
            " El apellido Elizabeth aparecio 2\n",
            " El apellido Lopez aparecio 2\n",
            " El apellido Victoria aparecio 2\n",
            " El apellido Constanza aparecio 2\n",
            " El apellido Mamani aparecio 2\n",
            " El apellido Garrido aparecio 2\n",
            " El apellido Rosario aparecio 2\n",
            " El apellido Marinaro aparecio 2\n",
            " El apellido Martin aparecio 3\n",
            " El apellido Merluzzi aparecio 2\n",
            " El apellido Dagum aparecio 2\n",
            " El apellido Ignacio aparecio 2\n",
            " El apellido Messina aparecio 2\n",
            " El apellido Rasuk aparecio 2\n",
            " El apellido Karim aparecio 2\n",
            " El apellido Rios aparecio 2\n",
            " El apellido Lucia aparecio 2\n",
            " El apellido Magali aparecio 2\n",
            " El apellido Matías aparecio 1\n",
            " El apellido Agustín aparecio 1\n",
            " El apellido Scarano aparecio 1\n",
            " El apellido Renato aparecio 1\n",
            " El apellido Marcelo aparecio 1\n",
            " El apellido Sierra aparecio 1\n",
            " El apellido Lucas aparecio 1\n",
            " El apellido Mauricio aparecio 1\n",
            " El apellido Tapia aparecio 1\n",
            " El apellido Gabriel aparecio 1\n",
            " El apellido Vilte aparecio 1\n",
            " El apellido Mia aparecio 1\n",
            " El apellido Antonella aparecio 1\n",
            " El apellido Alondra aparecio 1\n",
            " El apellido Virgillito aparecio 1\n",
            " El apellido Katya aparecio 1\n",
            " El apellido Milena aparecio 1\n"
          ]
        }
      ]
    },
    {
      "cell_type": "markdown",
      "source": [
        "5. Solicita al usuario que ingrese un apellido y muestra  a todos los estudiantes con ese apellido."
      ],
      "metadata": {
        "id": "ywYmA2JQNp3T"
      }
    },
    {
      "cell_type": "code",
      "source": [
        "apellido_buscado = input(\"Ingrese un apellido: \").title()\n",
        "encontrados = False\n",
        "for estudiante in estudiantes:\n",
        "    if apellido_buscado in estudiante[0]:\n",
        "        print(estudiante)\n",
        "        encontrados = True\n",
        "if not encontrados:\n",
        "    print(\"No se encontraron estudiantes con ese apellido.\")"
      ],
      "metadata": {
        "colab": {
          "base_uri": "https://localhost:8080/"
        },
        "id": "3adO98ygdTEJ",
        "outputId": "6ea79133-4619-4a77-a37d-141498ae32c8"
      },
      "execution_count": null,
      "outputs": [
        {
          "output_type": "stream",
          "name": "stdout",
          "text": [
            "Ingrese un apellido: Virgillito\n",
            "('Virgillito, Katya Milena', 'C', '19/06/2007')\n"
          ]
        }
      ]
    },
    {
      "cell_type": "markdown",
      "source": [
        "6. Solicita al usuario que ingrese un nombre y muestra a todos los estudiantes con el nombre ingresado."
      ],
      "metadata": {
        "id": "iAXts6saODoU"
      }
    },
    {
      "cell_type": "code",
      "source": [
        "apellido_buscado = input(\"Ingrese un apellido: \").title()\n",
        "encontrados = False\n",
        "for estudiante in estudiantes:\n",
        "    if apellido_buscado in estudiante[0]:\n",
        "        print(estudiante)\n",
        "        encontrados = True\n",
        "if not encontrados:\n",
        "    print(\"No se encontraron estudiantes con ese apellido.\")"
      ],
      "metadata": {
        "colab": {
          "base_uri": "https://localhost:8080/"
        },
        "id": "3ef5vdLGd2ba",
        "outputId": "6bd3e4d1-d8ac-4396-f11d-f8ebc1f450f5"
      },
      "execution_count": null,
      "outputs": [
        {
          "output_type": "stream",
          "name": "stdout",
          "text": [
            "Ingrese un nombre: Katya\n",
            "('Virgillito, Katya Milena', 'C', '19/06/2007')\n"
          ]
        }
      ]
    },
    {
      "cell_type": "markdown",
      "source": [
        "7. Busca el diccionario con tu información dentro de la lista y cámbiate de división, de tal manera que si estas en 5C, con el cambio quedes en 5D y viceversa."
      ],
      "metadata": {
        "id": "T4PFiwwdOK27"
      }
    },
    {
      "cell_type": "code",
      "source": [
        "nombre = input(\"ingrese su nombre: \").title()\n",
        "apellido = input(\"ingrese su apellido: \").title()\n",
        "\n",
        "for i, persona in enumerate(lista_dict):\n",
        "    if persona[\"apellido\"] == apellido and persona[\"nombre\"] == nombre:\n",
        "        if persona[\"division\"] == \"D\":\n",
        "            lista_dict[i][\"division\"] = \"C\"\n",
        "        else:\n",
        "            lista_dict[i][\"division\"] = \"D\"\n",
        "        break\n",
        "\n",
        "for estudiante in lista_dict:\n",
        "    print(estudiante)"
      ],
      "metadata": {
        "colab": {
          "base_uri": "https://localhost:8080/"
        },
        "id": "yW32FyxqTMoq",
        "outputId": "29e244f1-bb83-4c4f-d47b-7e43d6677c90"
      },
      "execution_count": null,
      "outputs": [
        {
          "output_type": "stream",
          "name": "stdout",
          "text": [
            "ingrese su nombre: Katya Milena\n",
            "ingrese su apellido: Virgillito \n",
            "{'nombre': 'Lourdes Mariel', 'apellido': 'Abud Laspiur', 'division': 'C', 'curso': 5, 'fecha_nacimiento': '05/12/2006'}\n",
            "{'nombre': 'Luana Micaela', 'apellido': 'Amador', 'division': 'C', 'curso': 5, 'fecha_nacimiento': '09/12/2006'}\n",
            "{'nombre': 'Leonardo Ezequiel', 'apellido': 'Anaquin', 'division': 'C', 'curso': 5, 'fecha_nacimiento': '06/09/2005'}\n",
            "{'nombre': 'Lautaro Nahuel', 'apellido': 'Araoz Sanchez', 'division': 'C', 'curso': 5, 'fecha_nacimiento': '28/12/2005'}\n",
            "{'nombre': 'Agostina Abril', 'apellido': 'Argañaraz', 'division': 'C', 'curso': 5, 'fecha_nacimiento': '11/10/2006'}\n",
            "{'nombre': 'Matias Ezequiel', 'apellido': 'Barrera', 'division': 'C', 'curso': 5, 'fecha_nacimiento': '27/02/2007'}\n",
            "{'nombre': 'Joaquin Nicolas', 'apellido': 'Barrozo Vedia', 'division': 'C', 'curso': 5, 'fecha_nacimiento': '15/04/2006'}\n",
            "{'nombre': 'Valentino', 'apellido': 'Bettinelli', 'division': 'C', 'curso': 5, 'fecha_nacimiento': '12/07/2006'}\n",
            "{'nombre': 'Salvador', 'apellido': 'Bracamonte Martinez', 'division': 'C', 'curso': 5, 'fecha_nacimiento': '02/11/2005'}\n",
            "{'nombre': 'Ariana Zoe Del Valle', 'apellido': 'Colque Rivero', 'division': 'C', 'curso': 5, 'fecha_nacimiento': '27/12/2006'}\n",
            "{'nombre': 'Dulce Maitena', 'apellido': 'Diaz', 'division': 'C', 'curso': 5, 'fecha_nacimiento': '11/12/2006'}\n",
            "{'nombre': 'Santino Josue', 'apellido': 'Figueroa', 'division': 'C', 'curso': 5, 'fecha_nacimiento': '12/05/2007'}\n",
            "{'nombre': 'Agustina Tiara', 'apellido': 'Flores Cardozo', 'division': 'C', 'curso': 5, 'fecha_nacimiento': '18/03/2006'}\n",
            "{'nombre': 'Octavio Ismael', 'apellido': 'Gallo', 'division': 'C', 'curso': 5, 'fecha_nacimiento': '04/08/2006'}\n",
            "{'nombre': 'Lourdes Yamila', 'apellido': 'Galvan', 'division': 'C', 'curso': 5, 'fecha_nacimiento': '19/08/2005'}\n",
            "{'nombre': 'Vitto Tomasso', 'apellido': 'Giangreco', 'division': 'C', 'curso': 5, 'fecha_nacimiento': '21/03/2007'}\n",
            "{'nombre': 'Martina Luna', 'apellido': 'Grancara', 'division': 'C', 'curso': 5, 'fecha_nacimiento': '15/12/2006'}\n",
            "{'nombre': 'Sara Elizabeth', 'apellido': 'Guanca', 'division': 'C', 'curso': 5, 'fecha_nacimiento': '17/01/2007'}\n",
            "{'nombre': 'Victoria Constanza', 'apellido': 'Lopez', 'division': 'C', 'curso': 5, 'fecha_nacimiento': '12/11/2007'}\n",
            "{'nombre': 'Rosario Agostina', 'apellido': 'Mamani Garrido', 'division': 'C', 'curso': 5, 'fecha_nacimiento': '24/10/2006'}\n",
            "{'nombre': 'Martin Ezequiel', 'apellido': 'Marinaro', 'division': 'C', 'curso': 5, 'fecha_nacimiento': '03/11/2006'}\n",
            "{'nombre': 'Ignacio', 'apellido': 'Merluzzi Dagum', 'division': 'C', 'curso': 5, 'fecha_nacimiento': '22/12/2005'}\n",
            "{'nombre': 'Martina', 'apellido': 'Messina', 'division': 'C', 'curso': 5, 'fecha_nacimiento': '13/07/2005'}\n",
            "{'nombre': 'Karim', 'apellido': 'Rasuk', 'division': 'C', 'curso': 5, 'fecha_nacimiento': '13/07/2007'}\n",
            "{'nombre': 'Lucia Magali', 'apellido': 'Rios', 'division': 'C', 'curso': 5, 'fecha_nacimiento': '22/09/2006'}\n",
            "{'nombre': 'Matías Agustín', 'apellido': 'Sanchez Flores', 'division': 'C', 'curso': 5, 'fecha_nacimiento': '15/02/2007'}\n",
            "{'nombre': 'Renato Marcelo', 'apellido': 'Scarano', 'division': 'C', 'curso': 5, 'fecha_nacimiento': '06/12/2006'}\n",
            "{'nombre': 'Lucas Mauricio', 'apellido': 'Sierra', 'division': 'C', 'curso': 5, 'fecha_nacimiento': '03/04/2005'}\n",
            "{'nombre': 'Martin Gabriel', 'apellido': 'Tapia', 'division': 'C', 'curso': 5, 'fecha_nacimiento': '30/05/2006'}\n",
            "{'nombre': 'Mia Antonella Alondra', 'apellido': 'Vilte', 'division': 'C', 'curso': 5, 'fecha_nacimiento': '10/09/2005'}\n",
            "{'nombre': 'Katya Milena', 'apellido': 'Virgillito', 'division': 'C', 'curso': 5, 'fecha_nacimiento': '19/06/2007'}\n",
            "{'nombre': 'Lourdes Mariel', 'apellido': 'Abud Laspiur', 'division': 'C', 'curso': 5, 'fecha_nacimiento': '05/12/2006'}\n",
            "{'nombre': 'Luana Micaela', 'apellido': 'Amador', 'division': 'C', 'curso': 5, 'fecha_nacimiento': '09/12/2006'}\n",
            "{'nombre': 'Leonardo Ezequiel', 'apellido': 'Anaquin', 'division': 'C', 'curso': 5, 'fecha_nacimiento': '06/09/2005'}\n",
            "{'nombre': 'Lautaro Nahuel', 'apellido': 'Araoz Sanchez', 'division': 'C', 'curso': 5, 'fecha_nacimiento': '28/12/2005'}\n",
            "{'nombre': 'Agostina Abril', 'apellido': 'Argañaraz', 'division': 'C', 'curso': 5, 'fecha_nacimiento': '11/10/2006'}\n",
            "{'nombre': 'Matias Ezequiel', 'apellido': 'Barrera', 'division': 'C', 'curso': 5, 'fecha_nacimiento': '27/02/2007'}\n",
            "{'nombre': 'Joaquin Nicolas', 'apellido': 'Barrozo Vedia', 'division': 'C', 'curso': 5, 'fecha_nacimiento': '15/04/2006'}\n",
            "{'nombre': 'Valentino', 'apellido': 'Bettinelli', 'division': 'C', 'curso': 5, 'fecha_nacimiento': '12/07/2006'}\n",
            "{'nombre': 'Salvador', 'apellido': 'Bracamonte Martinez', 'division': 'C', 'curso': 5, 'fecha_nacimiento': '02/11/2005'}\n",
            "{'nombre': 'Ariana Zoe Del Valle', 'apellido': 'Colque Rivero', 'division': 'C', 'curso': 5, 'fecha_nacimiento': '27/12/2006'}\n",
            "{'nombre': 'Dulce Maitena', 'apellido': 'Diaz', 'division': 'C', 'curso': 5, 'fecha_nacimiento': '11/12/2006'}\n",
            "{'nombre': 'Santino Josue', 'apellido': 'Figueroa', 'division': 'C', 'curso': 5, 'fecha_nacimiento': '12/05/2007'}\n",
            "{'nombre': 'Agustina Tiara', 'apellido': 'Flores Cardozo', 'division': 'C', 'curso': 5, 'fecha_nacimiento': '18/03/2006'}\n",
            "{'nombre': 'Octavio Ismael', 'apellido': 'Gallo', 'division': 'C', 'curso': 5, 'fecha_nacimiento': '04/08/2006'}\n",
            "{'nombre': 'Lourdes Yamila', 'apellido': 'Galvan', 'division': 'C', 'curso': 5, 'fecha_nacimiento': '19/08/2005'}\n",
            "{'nombre': 'Vitto Tomasso', 'apellido': 'Giangreco', 'division': 'C', 'curso': 5, 'fecha_nacimiento': '21/03/2007'}\n",
            "{'nombre': 'Martina Luna', 'apellido': 'Grancara', 'division': 'C', 'curso': 5, 'fecha_nacimiento': '15/12/2006'}\n",
            "{'nombre': 'Sara Elizabeth', 'apellido': 'Guanca', 'division': 'C', 'curso': 5, 'fecha_nacimiento': '17/01/2007'}\n",
            "{'nombre': 'Victoria Constanza', 'apellido': 'Lopez', 'division': 'C', 'curso': 5, 'fecha_nacimiento': '12/11/2007'}\n",
            "{'nombre': 'Rosario Agostina', 'apellido': 'Mamani Garrido', 'division': 'C', 'curso': 5, 'fecha_nacimiento': '24/10/2006'}\n",
            "{'nombre': 'Martin Ezequiel', 'apellido': 'Marinaro', 'division': 'C', 'curso': 5, 'fecha_nacimiento': '03/11/2006'}\n",
            "{'nombre': 'Ignacio', 'apellido': 'Merluzzi Dagum', 'division': 'C', 'curso': 5, 'fecha_nacimiento': '22/12/2005'}\n",
            "{'nombre': 'Martina', 'apellido': 'Messina', 'division': 'C', 'curso': 5, 'fecha_nacimiento': '13/07/2005'}\n",
            "{'nombre': 'Karim', 'apellido': 'Rasuk', 'division': 'C', 'curso': 5, 'fecha_nacimiento': '13/07/2007'}\n",
            "{'nombre': 'Lucia Magali', 'apellido': 'Rios', 'division': 'C', 'curso': 5, 'fecha_nacimiento': '22/09/2006'}\n"
          ]
        }
      ]
    },
    {
      "cell_type": "markdown",
      "source": [
        "8. Ordenar la lista alfabeticamente por nombre. Ascendente y descendentemente. Para elegir como ordenarla, mostrar un menú donde el usuario podrá decidir como quiere ver la salida."
      ],
      "metadata": {
        "id": "xfy8SFlZRVGf"
      }
    },
    {
      "cell_type": "code",
      "source": [],
      "metadata": {
        "id": "E4Onk1FNRUa2"
      },
      "execution_count": null,
      "outputs": []
    },
    {
      "cell_type": "markdown",
      "source": [
        "9. Ordenar la lista alfabeticamente por apellido. Ascendente y descendentemente. Para elegir como ordenarla, mostrar un menú donde el usuario podrá decidir como quiere ver la salida."
      ],
      "metadata": {
        "id": "lW18NgPjRcGP"
      }
    },
    {
      "cell_type": "code",
      "source": [
        "orden_2=input(\"Elija como ordenar la lista: \\nA. Ascendente por apellido \\nD. Descendente por apellido \").upper()\n",
        "if orden_2 == \"A\":\n",
        "  lista_dict.sort(key=lambda x: x[\"apellido\"])\n",
        "  for estudiante in lista_dict:\n",
        "    print(estudiante)\n",
        "elif orden_2 == \"D\":\n",
        "  lista_dict.sort(key=lambda x: x[\"apellido\"],reverse=True)\n",
        "  for estudiante in lista_dict:\n",
        "    print(estudiante)\n",
        "else:\n",
        "  print(\"Opcion invalida\")"
      ],
      "metadata": {
        "id": "jTtWBnalRcoC",
        "colab": {
          "base_uri": "https://localhost:8080/"
        },
        "outputId": "e5d21afb-32fd-4d8c-f800-7ba95b8b934f"
      },
      "execution_count": null,
      "outputs": [
        {
          "output_type": "stream",
          "name": "stdout",
          "text": [
            "Elija como ordenar la lista: \n",
            "A. Ascendente por apellido \n",
            "D. Descendente por apellido D\n",
            "{'nombre': 'Katya Milena', 'apellido': 'Virgillito', 'division': 'C', 'curso': 5, 'fecha_nacimiento': '19/06/2007'}\n",
            "{'nombre': 'Mia Antonella Alondra', 'apellido': 'Vilte', 'division': 'C', 'curso': 5, 'fecha_nacimiento': '10/09/2005'}\n",
            "{'nombre': 'Martin Gabriel', 'apellido': 'Tapia', 'division': 'C', 'curso': 5, 'fecha_nacimiento': '30/05/2006'}\n",
            "{'nombre': 'Lucas Mauricio', 'apellido': 'Sierra', 'division': 'C', 'curso': 5, 'fecha_nacimiento': '03/04/2005'}\n",
            "{'nombre': 'Renato Marcelo', 'apellido': 'Scarano', 'division': 'C', 'curso': 5, 'fecha_nacimiento': '06/12/2006'}\n",
            "{'nombre': 'Matías Agustín', 'apellido': 'Sanchez Flores', 'division': 'C', 'curso': 5, 'fecha_nacimiento': '15/02/2007'}\n",
            "{'nombre': 'Lucia Magali', 'apellido': 'Rios', 'division': 'C', 'curso': 5, 'fecha_nacimiento': '22/09/2006'}\n",
            "{'nombre': 'Lucia Magali', 'apellido': 'Rios', 'division': 'C', 'curso': 5, 'fecha_nacimiento': '22/09/2006'}\n",
            "{'nombre': 'Karim', 'apellido': 'Rasuk', 'division': 'C', 'curso': 5, 'fecha_nacimiento': '13/07/2007'}\n",
            "{'nombre': 'Karim', 'apellido': 'Rasuk', 'division': 'C', 'curso': 5, 'fecha_nacimiento': '13/07/2007'}\n",
            "{'nombre': 'Martina', 'apellido': 'Messina', 'division': 'C', 'curso': 5, 'fecha_nacimiento': '13/07/2005'}\n",
            "{'nombre': 'Martina', 'apellido': 'Messina', 'division': 'C', 'curso': 5, 'fecha_nacimiento': '13/07/2005'}\n",
            "{'nombre': 'Ignacio', 'apellido': 'Merluzzi Dagum', 'division': 'C', 'curso': 5, 'fecha_nacimiento': '22/12/2005'}\n",
            "{'nombre': 'Ignacio', 'apellido': 'Merluzzi Dagum', 'division': 'C', 'curso': 5, 'fecha_nacimiento': '22/12/2005'}\n",
            "{'nombre': 'Martin Ezequiel', 'apellido': 'Marinaro', 'division': 'C', 'curso': 5, 'fecha_nacimiento': '03/11/2006'}\n",
            "{'nombre': 'Martin Ezequiel', 'apellido': 'Marinaro', 'division': 'C', 'curso': 5, 'fecha_nacimiento': '03/11/2006'}\n",
            "{'nombre': 'Rosario Agostina', 'apellido': 'Mamani Garrido', 'division': 'C', 'curso': 5, 'fecha_nacimiento': '24/10/2006'}\n",
            "{'nombre': 'Rosario Agostina', 'apellido': 'Mamani Garrido', 'division': 'C', 'curso': 5, 'fecha_nacimiento': '24/10/2006'}\n",
            "{'nombre': 'Victoria Constanza', 'apellido': 'Lopez', 'division': 'C', 'curso': 5, 'fecha_nacimiento': '12/11/2007'}\n",
            "{'nombre': 'Victoria Constanza', 'apellido': 'Lopez', 'division': 'C', 'curso': 5, 'fecha_nacimiento': '12/11/2007'}\n",
            "{'nombre': 'Sara Elizabeth', 'apellido': 'Guanca', 'division': 'C', 'curso': 5, 'fecha_nacimiento': '17/01/2007'}\n",
            "{'nombre': 'Sara Elizabeth', 'apellido': 'Guanca', 'division': 'C', 'curso': 5, 'fecha_nacimiento': '17/01/2007'}\n",
            "{'nombre': 'Martina Luna', 'apellido': 'Grancara', 'division': 'C', 'curso': 5, 'fecha_nacimiento': '15/12/2006'}\n",
            "{'nombre': 'Martina Luna', 'apellido': 'Grancara', 'division': 'C', 'curso': 5, 'fecha_nacimiento': '15/12/2006'}\n",
            "{'nombre': 'Vitto Tomasso', 'apellido': 'Giangreco', 'division': 'C', 'curso': 5, 'fecha_nacimiento': '21/03/2007'}\n",
            "{'nombre': 'Vitto Tomasso', 'apellido': 'Giangreco', 'division': 'C', 'curso': 5, 'fecha_nacimiento': '21/03/2007'}\n",
            "{'nombre': 'Lourdes Yamila', 'apellido': 'Galvan', 'division': 'C', 'curso': 5, 'fecha_nacimiento': '19/08/2005'}\n",
            "{'nombre': 'Lourdes Yamila', 'apellido': 'Galvan', 'division': 'C', 'curso': 5, 'fecha_nacimiento': '19/08/2005'}\n",
            "{'nombre': 'Octavio Ismael', 'apellido': 'Gallo', 'division': 'C', 'curso': 5, 'fecha_nacimiento': '04/08/2006'}\n",
            "{'nombre': 'Octavio Ismael', 'apellido': 'Gallo', 'division': 'C', 'curso': 5, 'fecha_nacimiento': '04/08/2006'}\n",
            "{'nombre': 'Agustina Tiara', 'apellido': 'Flores Cardozo', 'division': 'C', 'curso': 5, 'fecha_nacimiento': '18/03/2006'}\n",
            "{'nombre': 'Agustina Tiara', 'apellido': 'Flores Cardozo', 'division': 'C', 'curso': 5, 'fecha_nacimiento': '18/03/2006'}\n",
            "{'nombre': 'Santino Josue', 'apellido': 'Figueroa', 'division': 'C', 'curso': 5, 'fecha_nacimiento': '12/05/2007'}\n",
            "{'nombre': 'Santino Josue', 'apellido': 'Figueroa', 'division': 'C', 'curso': 5, 'fecha_nacimiento': '12/05/2007'}\n",
            "{'nombre': 'Dulce Maitena', 'apellido': 'Diaz', 'division': 'C', 'curso': 5, 'fecha_nacimiento': '11/12/2006'}\n",
            "{'nombre': 'Dulce Maitena', 'apellido': 'Diaz', 'division': 'C', 'curso': 5, 'fecha_nacimiento': '11/12/2006'}\n",
            "{'nombre': 'Ariana Zoe Del Valle', 'apellido': 'Colque Rivero', 'division': 'C', 'curso': 5, 'fecha_nacimiento': '27/12/2006'}\n",
            "{'nombre': 'Ariana Zoe Del Valle', 'apellido': 'Colque Rivero', 'division': 'C', 'curso': 5, 'fecha_nacimiento': '27/12/2006'}\n",
            "{'nombre': 'Salvador', 'apellido': 'Bracamonte Martinez', 'division': 'C', 'curso': 5, 'fecha_nacimiento': '02/11/2005'}\n",
            "{'nombre': 'Salvador', 'apellido': 'Bracamonte Martinez', 'division': 'C', 'curso': 5, 'fecha_nacimiento': '02/11/2005'}\n",
            "{'nombre': 'Valentino', 'apellido': 'Bettinelli', 'division': 'C', 'curso': 5, 'fecha_nacimiento': '12/07/2006'}\n",
            "{'nombre': 'Valentino', 'apellido': 'Bettinelli', 'division': 'C', 'curso': 5, 'fecha_nacimiento': '12/07/2006'}\n",
            "{'nombre': 'Joaquin Nicolas', 'apellido': 'Barrozo Vedia', 'division': 'C', 'curso': 5, 'fecha_nacimiento': '15/04/2006'}\n",
            "{'nombre': 'Joaquin Nicolas', 'apellido': 'Barrozo Vedia', 'division': 'C', 'curso': 5, 'fecha_nacimiento': '15/04/2006'}\n",
            "{'nombre': 'Matias Ezequiel', 'apellido': 'Barrera', 'division': 'C', 'curso': 5, 'fecha_nacimiento': '27/02/2007'}\n",
            "{'nombre': 'Matias Ezequiel', 'apellido': 'Barrera', 'division': 'C', 'curso': 5, 'fecha_nacimiento': '27/02/2007'}\n",
            "{'nombre': 'Agostina Abril', 'apellido': 'Argañaraz', 'division': 'C', 'curso': 5, 'fecha_nacimiento': '11/10/2006'}\n",
            "{'nombre': 'Agostina Abril', 'apellido': 'Argañaraz', 'division': 'C', 'curso': 5, 'fecha_nacimiento': '11/10/2006'}\n",
            "{'nombre': 'Lautaro Nahuel', 'apellido': 'Araoz Sanchez', 'division': 'C', 'curso': 5, 'fecha_nacimiento': '28/12/2005'}\n",
            "{'nombre': 'Lautaro Nahuel', 'apellido': 'Araoz Sanchez', 'division': 'C', 'curso': 5, 'fecha_nacimiento': '28/12/2005'}\n",
            "{'nombre': 'Leonardo Ezequiel', 'apellido': 'Anaquin', 'division': 'C', 'curso': 5, 'fecha_nacimiento': '06/09/2005'}\n",
            "{'nombre': 'Leonardo Ezequiel', 'apellido': 'Anaquin', 'division': 'C', 'curso': 5, 'fecha_nacimiento': '06/09/2005'}\n",
            "{'nombre': 'Luana Micaela', 'apellido': 'Amador', 'division': 'C', 'curso': 5, 'fecha_nacimiento': '09/12/2006'}\n",
            "{'nombre': 'Luana Micaela', 'apellido': 'Amador', 'division': 'C', 'curso': 5, 'fecha_nacimiento': '09/12/2006'}\n",
            "{'nombre': 'Lourdes Mariel', 'apellido': 'Abud Laspiur', 'division': 'C', 'curso': 5, 'fecha_nacimiento': '05/12/2006'}\n",
            "{'nombre': 'Lourdes Mariel', 'apellido': 'Abud Laspiur', 'division': 'C', 'curso': 5, 'fecha_nacimiento': '05/12/2006'}\n"
          ]
        }
      ]
    },
    {
      "cell_type": "markdown",
      "source": [
        "10. Ordena la lista por fecha de nacimiento, de manera ascendente y descendente."
      ],
      "metadata": {
        "id": "E24lH7x5Xbur"
      }
    },
    {
      "cell_type": "code",
      "source": [],
      "metadata": {
        "id": "9SeI3GBGXims",
        "colab": {
          "base_uri": "https://localhost:8080/"
        },
        "outputId": "5c5fbf94-b7ae-45aa-b6a1-fc4204dcbb2a"
      },
      "execution_count": null,
      "outputs": [
        {
          "output_type": "stream",
          "name": "stdout",
          "text": [
            "Elija como ordenar la lista: \n",
            "A. Ascendente por fecha de nacimiento \n",
            "D. Descendiente por fecha de nacimiento19/06/07\n",
            "opción invalida\n",
            "elija como ordenar la lista: \n",
            "A. Ascendente por facha de nacimiento \n",
            "D. Descendente por fecha de nacimiento.19/06/2007\n",
            "[{'nombre': 'Katya Milena', 'apellido': 'Virgillito', 'division': 'C', 'curso': 5, 'fecha_nacimiento': '19/06/2007'}, {'nombre': 'Mia Antonella Alondra', 'apellido': 'Vilte', 'division': 'C', 'curso': 5, 'fecha_nacimiento': '10/09/2005'}, {'nombre': 'Martin Gabriel', 'apellido': 'Tapia', 'division': 'C', 'curso': 5, 'fecha_nacimiento': '30/05/2006'}, {'nombre': 'Lucas Mauricio', 'apellido': 'Sierra', 'division': 'C', 'curso': 5, 'fecha_nacimiento': '03/04/2005'}, {'nombre': 'Renato Marcelo', 'apellido': 'Scarano', 'division': 'C', 'curso': 5, 'fecha_nacimiento': '06/12/2006'}, {'nombre': 'Matías Agustín', 'apellido': 'Sanchez Flores', 'division': 'C', 'curso': 5, 'fecha_nacimiento': '15/02/2007'}, {'nombre': 'Lucia Magali', 'apellido': 'Rios', 'division': 'C', 'curso': 5, 'fecha_nacimiento': '22/09/2006'}, {'nombre': 'Lucia Magali', 'apellido': 'Rios', 'division': 'C', 'curso': 5, 'fecha_nacimiento': '22/09/2006'}, {'nombre': 'Karim', 'apellido': 'Rasuk', 'division': 'C', 'curso': 5, 'fecha_nacimiento': '13/07/2007'}, {'nombre': 'Karim', 'apellido': 'Rasuk', 'division': 'C', 'curso': 5, 'fecha_nacimiento': '13/07/2007'}, {'nombre': 'Martina', 'apellido': 'Messina', 'division': 'C', 'curso': 5, 'fecha_nacimiento': '13/07/2005'}, {'nombre': 'Martina', 'apellido': 'Messina', 'division': 'C', 'curso': 5, 'fecha_nacimiento': '13/07/2005'}, {'nombre': 'Ignacio', 'apellido': 'Merluzzi Dagum', 'division': 'C', 'curso': 5, 'fecha_nacimiento': '22/12/2005'}, {'nombre': 'Ignacio', 'apellido': 'Merluzzi Dagum', 'division': 'C', 'curso': 5, 'fecha_nacimiento': '22/12/2005'}, {'nombre': 'Martin Ezequiel', 'apellido': 'Marinaro', 'division': 'C', 'curso': 5, 'fecha_nacimiento': '03/11/2006'}, {'nombre': 'Martin Ezequiel', 'apellido': 'Marinaro', 'division': 'C', 'curso': 5, 'fecha_nacimiento': '03/11/2006'}, {'nombre': 'Rosario Agostina', 'apellido': 'Mamani Garrido', 'division': 'C', 'curso': 5, 'fecha_nacimiento': '24/10/2006'}, {'nombre': 'Rosario Agostina', 'apellido': 'Mamani Garrido', 'division': 'C', 'curso': 5, 'fecha_nacimiento': '24/10/2006'}, {'nombre': 'Victoria Constanza', 'apellido': 'Lopez', 'division': 'C', 'curso': 5, 'fecha_nacimiento': '12/11/2007'}, {'nombre': 'Victoria Constanza', 'apellido': 'Lopez', 'division': 'C', 'curso': 5, 'fecha_nacimiento': '12/11/2007'}, {'nombre': 'Sara Elizabeth', 'apellido': 'Guanca', 'division': 'C', 'curso': 5, 'fecha_nacimiento': '17/01/2007'}, {'nombre': 'Sara Elizabeth', 'apellido': 'Guanca', 'division': 'C', 'curso': 5, 'fecha_nacimiento': '17/01/2007'}, {'nombre': 'Martina Luna', 'apellido': 'Grancara', 'division': 'C', 'curso': 5, 'fecha_nacimiento': '15/12/2006'}, {'nombre': 'Martina Luna', 'apellido': 'Grancara', 'division': 'C', 'curso': 5, 'fecha_nacimiento': '15/12/2006'}, {'nombre': 'Vitto Tomasso', 'apellido': 'Giangreco', 'division': 'C', 'curso': 5, 'fecha_nacimiento': '21/03/2007'}, {'nombre': 'Vitto Tomasso', 'apellido': 'Giangreco', 'division': 'C', 'curso': 5, 'fecha_nacimiento': '21/03/2007'}, {'nombre': 'Lourdes Yamila', 'apellido': 'Galvan', 'division': 'C', 'curso': 5, 'fecha_nacimiento': '19/08/2005'}, {'nombre': 'Lourdes Yamila', 'apellido': 'Galvan', 'division': 'C', 'curso': 5, 'fecha_nacimiento': '19/08/2005'}, {'nombre': 'Octavio Ismael', 'apellido': 'Gallo', 'division': 'C', 'curso': 5, 'fecha_nacimiento': '04/08/2006'}, {'nombre': 'Octavio Ismael', 'apellido': 'Gallo', 'division': 'C', 'curso': 5, 'fecha_nacimiento': '04/08/2006'}, {'nombre': 'Agustina Tiara', 'apellido': 'Flores Cardozo', 'division': 'C', 'curso': 5, 'fecha_nacimiento': '18/03/2006'}, {'nombre': 'Agustina Tiara', 'apellido': 'Flores Cardozo', 'division': 'C', 'curso': 5, 'fecha_nacimiento': '18/03/2006'}, {'nombre': 'Santino Josue', 'apellido': 'Figueroa', 'division': 'C', 'curso': 5, 'fecha_nacimiento': '12/05/2007'}, {'nombre': 'Santino Josue', 'apellido': 'Figueroa', 'division': 'C', 'curso': 5, 'fecha_nacimiento': '12/05/2007'}, {'nombre': 'Dulce Maitena', 'apellido': 'Diaz', 'division': 'C', 'curso': 5, 'fecha_nacimiento': '11/12/2006'}, {'nombre': 'Dulce Maitena', 'apellido': 'Diaz', 'division': 'C', 'curso': 5, 'fecha_nacimiento': '11/12/2006'}, {'nombre': 'Ariana Zoe Del Valle', 'apellido': 'Colque Rivero', 'division': 'C', 'curso': 5, 'fecha_nacimiento': '27/12/2006'}, {'nombre': 'Ariana Zoe Del Valle', 'apellido': 'Colque Rivero', 'division': 'C', 'curso': 5, 'fecha_nacimiento': '27/12/2006'}, {'nombre': 'Salvador', 'apellido': 'Bracamonte Martinez', 'division': 'C', 'curso': 5, 'fecha_nacimiento': '02/11/2005'}, {'nombre': 'Salvador', 'apellido': 'Bracamonte Martinez', 'division': 'C', 'curso': 5, 'fecha_nacimiento': '02/11/2005'}, {'nombre': 'Valentino', 'apellido': 'Bettinelli', 'division': 'C', 'curso': 5, 'fecha_nacimiento': '12/07/2006'}, {'nombre': 'Valentino', 'apellido': 'Bettinelli', 'division': 'C', 'curso': 5, 'fecha_nacimiento': '12/07/2006'}, {'nombre': 'Joaquin Nicolas', 'apellido': 'Barrozo Vedia', 'division': 'C', 'curso': 5, 'fecha_nacimiento': '15/04/2006'}, {'nombre': 'Joaquin Nicolas', 'apellido': 'Barrozo Vedia', 'division': 'C', 'curso': 5, 'fecha_nacimiento': '15/04/2006'}, {'nombre': 'Matias Ezequiel', 'apellido': 'Barrera', 'division': 'C', 'curso': 5, 'fecha_nacimiento': '27/02/2007'}, {'nombre': 'Matias Ezequiel', 'apellido': 'Barrera', 'division': 'C', 'curso': 5, 'fecha_nacimiento': '27/02/2007'}, {'nombre': 'Agostina Abril', 'apellido': 'Argañaraz', 'division': 'C', 'curso': 5, 'fecha_nacimiento': '11/10/2006'}, {'nombre': 'Agostina Abril', 'apellido': 'Argañaraz', 'division': 'C', 'curso': 5, 'fecha_nacimiento': '11/10/2006'}, {'nombre': 'Lautaro Nahuel', 'apellido': 'Araoz Sanchez', 'division': 'C', 'curso': 5, 'fecha_nacimiento': '28/12/2005'}, {'nombre': 'Lautaro Nahuel', 'apellido': 'Araoz Sanchez', 'division': 'C', 'curso': 5, 'fecha_nacimiento': '28/12/2005'}, {'nombre': 'Leonardo Ezequiel', 'apellido': 'Anaquin', 'division': 'C', 'curso': 5, 'fecha_nacimiento': '06/09/2005'}, {'nombre': 'Leonardo Ezequiel', 'apellido': 'Anaquin', 'division': 'C', 'curso': 5, 'fecha_nacimiento': '06/09/2005'}, {'nombre': 'Luana Micaela', 'apellido': 'Amador', 'division': 'C', 'curso': 5, 'fecha_nacimiento': '09/12/2006'}, {'nombre': 'Luana Micaela', 'apellido': 'Amador', 'division': 'C', 'curso': 5, 'fecha_nacimiento': '09/12/2006'}, {'nombre': 'Lourdes Mariel', 'apellido': 'Abud Laspiur', 'division': 'C', 'curso': 5, 'fecha_nacimiento': '05/12/2006'}, {'nombre': 'Lourdes Mariel', 'apellido': 'Abud Laspiur', 'division': 'C', 'curso': 5, 'fecha_nacimiento': '05/12/2006'}]\n"
          ]
        }
      ]
    },
    {
      "cell_type": "markdown",
      "source": [
        "11. Generar una estuctura de diccionario anidado en donde la clave sea el nombre del estudiante y el valor sea un diccionario con los datos del mismo, de la siguiente manera:\n",
        "\n",
        "\n",
        "\n",
        "\n",
        "```python\n",
        "estudiantes = {\n",
        "    \"Juan Perez\": {\n",
        "        \"año\": 2024,\n",
        "        \"división\": \"5D\",\n",
        "        \"fecha de nacimiento\": \"15/03/2006\"\n",
        "    },\n",
        "    \"Maria Gomez\": {\n",
        "        \"año\": 2024,\n",
        "        \"división\": \"5D\",\n",
        "        \"fecha de nacimiento\": \"22/07/2006\"\n",
        "    },\n",
        "    \"Carlos Lopez\": {\n",
        "        \"año\": 2024,\n",
        "        \"división\": \"5D\",\n",
        "        \"fecha de nacimiento\": \"05/10/2006\"\n",
        "    }\n",
        "}\n",
        "```\n",
        "\n",
        "\n",
        "\n",
        "\n"
      ],
      "metadata": {
        "id": "vOY6K_ydRc3Q"
      }
    },
    {
      "cell_type": "code",
      "source": [
        "estudiantes_2 = {}\n",
        "for estudiante in lista_dict:\n",
        "  nombre_completo= estudiante.get('nombre','') + ' ' + estudiante.get(\"apellido\", \"\")\n",
        "  division, curso, fecha_nacimiento=estudiante.get(\"division\"), estudiante.get(\"curso\"), estudiante.get(\"fecha_nacimiento\")\n",
        "  dic={}\n",
        "  dic[\"division\"]=curso, division\n",
        "  dic[\"fecha_nacimiento\"]=fecha_nacimiento\n",
        "  dic[\"año\"]=2024\n",
        "  estudiantes_2[nombre_completo] = dic\n",
        "for estudiante, valor in estudiantes_2.items():\n",
        "  print(estudiante, valor)"
      ],
      "metadata": {
        "id": "9JDrd3WqRdTi",
        "colab": {
          "base_uri": "https://localhost:8080/"
        },
        "outputId": "fab97a7e-f632-4709-a34b-c1845ab15e32"
      },
      "execution_count": null,
      "outputs": [
        {
          "output_type": "stream",
          "name": "stdout",
          "text": [
            "Katya Milena Virgillito {'division': (5, 'C'), 'fecha_nacimiento': '19/06/2007', 'año': 2024}\n",
            "Mia Antonella Alondra Vilte {'division': (5, 'C'), 'fecha_nacimiento': '10/09/2005', 'año': 2024}\n",
            "Martin Gabriel Tapia {'division': (5, 'C'), 'fecha_nacimiento': '30/05/2006', 'año': 2024}\n",
            "Lucas Mauricio Sierra {'division': (5, 'C'), 'fecha_nacimiento': '03/04/2005', 'año': 2024}\n",
            "Renato Marcelo Scarano {'division': (5, 'C'), 'fecha_nacimiento': '06/12/2006', 'año': 2024}\n",
            "Matías Agustín Sanchez Flores {'division': (5, 'C'), 'fecha_nacimiento': '15/02/2007', 'año': 2024}\n",
            "Lucia Magali Rios {'division': (5, 'C'), 'fecha_nacimiento': '22/09/2006', 'año': 2024}\n",
            "Karim Rasuk {'division': (5, 'C'), 'fecha_nacimiento': '13/07/2007', 'año': 2024}\n",
            "Martina Messina {'division': (5, 'C'), 'fecha_nacimiento': '13/07/2005', 'año': 2024}\n",
            "Ignacio Merluzzi Dagum {'division': (5, 'C'), 'fecha_nacimiento': '22/12/2005', 'año': 2024}\n",
            "Martin Ezequiel Marinaro {'division': (5, 'C'), 'fecha_nacimiento': '03/11/2006', 'año': 2024}\n",
            "Rosario Agostina Mamani Garrido {'division': (5, 'C'), 'fecha_nacimiento': '24/10/2006', 'año': 2024}\n",
            "Victoria Constanza Lopez {'division': (5, 'C'), 'fecha_nacimiento': '12/11/2007', 'año': 2024}\n",
            "Sara Elizabeth Guanca {'division': (5, 'C'), 'fecha_nacimiento': '17/01/2007', 'año': 2024}\n",
            "Martina Luna Grancara {'division': (5, 'C'), 'fecha_nacimiento': '15/12/2006', 'año': 2024}\n",
            "Vitto Tomasso Giangreco {'division': (5, 'C'), 'fecha_nacimiento': '21/03/2007', 'año': 2024}\n",
            "Lourdes Yamila Galvan {'division': (5, 'C'), 'fecha_nacimiento': '19/08/2005', 'año': 2024}\n",
            "Octavio Ismael Gallo {'division': (5, 'C'), 'fecha_nacimiento': '04/08/2006', 'año': 2024}\n",
            "Agustina Tiara Flores Cardozo {'division': (5, 'C'), 'fecha_nacimiento': '18/03/2006', 'año': 2024}\n",
            "Santino Josue Figueroa {'division': (5, 'C'), 'fecha_nacimiento': '12/05/2007', 'año': 2024}\n",
            "Dulce Maitena Diaz {'division': (5, 'C'), 'fecha_nacimiento': '11/12/2006', 'año': 2024}\n",
            "Ariana Zoe Del Valle Colque Rivero {'division': (5, 'C'), 'fecha_nacimiento': '27/12/2006', 'año': 2024}\n",
            "Salvador Bracamonte Martinez {'division': (5, 'C'), 'fecha_nacimiento': '02/11/2005', 'año': 2024}\n",
            "Valentino Bettinelli {'division': (5, 'C'), 'fecha_nacimiento': '12/07/2006', 'año': 2024}\n",
            "Joaquin Nicolas Barrozo Vedia {'division': (5, 'C'), 'fecha_nacimiento': '15/04/2006', 'año': 2024}\n",
            "Matias Ezequiel Barrera {'division': (5, 'C'), 'fecha_nacimiento': '27/02/2007', 'año': 2024}\n",
            "Agostina Abril Argañaraz {'division': (5, 'C'), 'fecha_nacimiento': '11/10/2006', 'año': 2024}\n",
            "Lautaro Nahuel Araoz Sanchez {'division': (5, 'C'), 'fecha_nacimiento': '28/12/2005', 'año': 2024}\n",
            "Leonardo Ezequiel Anaquin {'division': (5, 'C'), 'fecha_nacimiento': '06/09/2005', 'año': 2024}\n",
            "Luana Micaela Amador {'division': (5, 'C'), 'fecha_nacimiento': '09/12/2006', 'año': 2024}\n",
            "Lourdes Mariel Abud Laspiur {'division': (5, 'C'), 'fecha_nacimiento': '05/12/2006', 'año': 2024}\n"
          ]
        }
      ]
    }
  ]
}